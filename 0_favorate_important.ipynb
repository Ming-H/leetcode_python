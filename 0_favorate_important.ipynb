{
 "cells": [
  {
   "cell_type": "code",
   "execution_count": 1,
   "metadata": {},
   "outputs": [
    {
     "name": "stdout",
     "output_type": "stream",
     "text": [
      "[1, 1, 2, 3, 3, 4, 5, 6, 8]\n"
     ]
    }
   ],
   "source": [
    "# 合并n个等长的有序数组\n",
    "\n",
    "import sys\n",
    "\n",
    "class HeapNode:\n",
    "    def __init__(self,x,y=0,z=0):\n",
    "        self.value=x\n",
    "        self.i=y\n",
    "        self.j=z\n",
    "\n",
    "def Min_Heap(heap):\n",
    "    HeapSize = len(heap)#将堆的长度单独拿出来方便\n",
    "    for i in range((HeapSize -2)//2,-1,-1):#从后往前出数\n",
    "        Min_Heapify(heap,i)\n",
    "\n",
    "def Min_Heapify(heap,root):\n",
    "    heapsize=len(heap)\n",
    "    MIN=root\n",
    "    left=2*root+1\n",
    "    right=left+1\n",
    "    if left<heapsize and heap[MIN].value>heap[left].value:\n",
    "        MIN=left\n",
    "    if right <heapsize and heap[MIN].value>heap[right].value:\n",
    "        MIN=right\n",
    "    if MIN!=root:\n",
    "        heap[MIN], heap[root] = heap[root], heap[MIN]\n",
    "        Min_Heapify(heap, MIN)\n",
    "\n",
    "def MergeKArray(nums,n):\n",
    "    # 合并k个有序数组，每个数组长度都为k\n",
    "    knums=[]\n",
    "    output=[]\n",
    "    for i in range(len(nums)):\n",
    "        subnums=nums[i]\n",
    "        knums.append(HeapNode(subnums[0],i,1))\n",
    "        \n",
    "    #k个元素初始化最小堆 　　Min_Heap(knums)\n",
    "    for i in range(len(nums)*n):\n",
    "        # 取堆顶，存结果\n",
    "        root=knums[0]\n",
    "        output.append(root.value)\n",
    "        #替换堆顶\n",
    "        if root.j<n:\n",
    "            root.value=nums[root.i][root.j]\n",
    "            root.j+=1\n",
    "        else:\n",
    "            root.value=sys.maxsize\n",
    "        knums[0]=root\n",
    "        Min_Heapify(knums,0)\n",
    "    return output\n",
    "\n",
    "\n",
    "knums=[[1,2,3],[1,3,6],[4,5,8]]\n",
    "print(MergeKArray(knums,3))"
   ]
  },
  {
   "cell_type": "code",
   "execution_count": null,
   "metadata": {},
   "outputs": [],
   "source": []
  }
 ],
 "metadata": {
  "kernelspec": {
   "display_name": "Python 3",
   "language": "python",
   "name": "python3"
  },
  "language_info": {
   "codemirror_mode": {
    "name": "ipython",
    "version": 3
   },
   "file_extension": ".py",
   "mimetype": "text/x-python",
   "name": "python",
   "nbconvert_exporter": "python",
   "pygments_lexer": "ipython3",
   "version": "3.8.3"
  }
 },
 "nbformat": 4,
 "nbformat_minor": 4
}
